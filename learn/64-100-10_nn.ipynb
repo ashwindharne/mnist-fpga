{
 "cells": [
  {
   "cell_type": "markdown",
   "metadata": {},
   "source": [
    "# CS M152A MNIST CLASSIFIER"
   ]
  },
  {
   "cell_type": "code",
   "execution_count": 4,
   "metadata": {},
   "outputs": [
    {
     "name": "stdout",
     "output_type": "stream",
     "text": [
      "Downloading http://yann.lecun.com/exdb/mnist/train-images-idx3-ubyte.gz\n",
      "Downloading http://yann.lecun.com/exdb/mnist/train-labels-idx1-ubyte.gz\n",
      "Downloading http://yann.lecun.com/exdb/mnist/t10k-images-idx3-ubyte.gz\n",
      "Downloading http://yann.lecun.com/exdb/mnist/t10k-labels-idx1-ubyte.gz\n",
      "Processing...\n",
      "Done!\n"
     ]
    }
   ],
   "source": [
    "%matplotlib inline\n",
    "%config InlineBackend.figure_format = 'retina'\n",
    "\n",
    "import torch\n",
    "import numpy as np\n",
    "import matplotlib.pyplot as plt\n",
    "from torch import nn, autograd\n",
    "import torch.nn.init\n",
    "import torch.optim as optim\n",
    "import torch.nn.functional as F\n",
    "from torchvision import datasets, transforms\n",
    "\n",
    "# Data normalization transform\n",
    "transform = transforms.Compose([transforms.ToTensor(),\n",
    "                                transforms.Normalize((0.5,), (0.5,)),\n",
    "                              ])\n",
    "\n",
    "# Download and load MNIST\n",
    "trainset = datasets.MNIST('~/.pytorch/MNIST_data/', download=True, train=True, transform=transform)\n",
    "trainloader = torch.utils.data.DataLoader(trainset, batch_size=64, shuffle=True)"
   ]
  },
  {
   "cell_type": "code",
   "execution_count": 5,
   "metadata": {},
   "outputs": [],
   "source": [
    "class MNIST_compressor(nn.Module):\n",
    "    def __init__(self):\n",
    "        super().__init__()\n",
    "        self.conv1 = nn.Conv2d(1, 1, 4, stride = 4)\n",
    "        self.conv1.weight.data.fill_(1/16)\n",
    "        self.conv1.bias.data.fill_(0)\n",
    "    def forward(self, x):\n",
    "        m = nn.ConstantPad2d(2, -1)\n",
    "        x = self.conv1(m(x))\n",
    "        return x"
   ]
  },
  {
   "cell_type": "code",
   "execution_count": 6,
   "metadata": {},
   "outputs": [],
   "source": [
    "n_hidden = 100\n",
    "n_output = 10\n",
    "n_input = 64\n",
    "classifier = nn.Sequential(nn.Linear(n_input, n_hidden),\n",
    "                           nn.ReLU(),\n",
    "                           nn.Linear(n_hidden, n_output),\n",
    "                           nn.LogSoftmax(dim=1))"
   ]
  },
  {
   "cell_type": "code",
   "execution_count": 7,
   "metadata": {},
   "outputs": [
    {
     "name": "stdout",
     "output_type": "stream",
     "text": [
      "Training loss: 0.70457278303246\n",
      "Training loss: 0.4779601678379309\n",
      "Training loss: 0.43135047845367686\n",
      "Training loss: 0.4096336956503295\n",
      "Training loss: 0.39603521257861335\n"
     ]
    }
   ],
   "source": [
    "mnist_compression = MNIST_compressor()\n",
    "criterion = nn.CrossEntropyLoss()\n",
    "epochs = 5\n",
    "optimizer = optim.Adam(classifier.parameters(), lr=0.003)\n",
    "t = torch.Tensor([-0.5])\n",
    "for e in range(epochs):\n",
    "    running_loss = 0\n",
    "    for images, labels in trainloader:\n",
    "        images = mnist_compression(images).detach()\n",
    "        images = images.view(images.shape[0], -1)\n",
    "        images = (images > t).float()\n",
    "        optimizer.zero_grad()\n",
    "        output = classifier(images)\n",
    "        loss = criterion(output, labels)\n",
    "        loss.backward()\n",
    "        optimizer.step()\n",
    "        \n",
    "        running_loss += loss.item()\n",
    "    else:\n",
    "        print(f\"Training loss: {running_loss/len(trainloader)}\")"
   ]
  },
  {
   "cell_type": "code",
   "execution_count": 9,
   "metadata": {},
   "outputs": [],
   "source": [
    "# %matplotlib inline\n",
    "\n",
    "# imagenum = 8\n",
    "# images, labels = next(iter(trainloader))\n",
    "\n",
    "# images = mnist_compression(images).detach()\n",
    "# images = images.view(images.shape[0], -1)\n",
    "# images = (images > t).float()\n",
    "# img = images[imagenum].view(1, 64)\n",
    "# print(labels[imagenum])\n",
    "\n",
    "# # Turn off gradients to speed up this part\n",
    "# with torch.no_grad():\n",
    "#     logps = classifier(img)\n",
    "\n",
    "# # Output of the network are log-probabilities, need to take exponential for probabilities\n",
    "# ps = torch.exp(logps)\n",
    "# plt.imshow(img.view(1, 8, 8).numpy().squeeze())\n",
    "# print(ps)\n",
    "\n",
    "classifier2 = nn.Sequential(nn.Linear(n_input, n_hidden),\n",
    "                            nn.ReLU(),\n",
    "                            nn.Linear(n_hidden, n_output))\n",
    "classifier2[0].weight.data = torch.round(classifier[0].weight*100)\n",
    "classifier2[2].weight.data = torch.round(classifier[2].weight*100)\n",
    "classifier2[0].bias.data = torch.round(classifier[0].bias * 100)\n",
    "classifier2[2].bias.data = torch.round(classifier[2].bias * 100)"
   ]
  },
  {
   "cell_type": "code",
   "execution_count": 26,
   "metadata": {
    "scrolled": true
   },
   "outputs": [
    {
     "name": "stdout",
     "output_type": "stream",
     "text": [
      "tensor(6)\n",
      "tensor([6])\n"
     ]
    },
    {
     "data": {
      "text/plain": [
       "<matplotlib.image.AxesImage at 0x7fa835405208>"
      ]
     },
     "execution_count": 26,
     "metadata": {},
     "output_type": "execute_result"
    },
    {
     "data": {
      "image/png": "[encoded data removed]",
      "text/plain": [
       "<Figure size 432x288 with 1 Axes>"
      ]
     },
     "metadata": {
      "image/png": {
       "height": 250,
       "width": 247
      },
      "needs_background": "light"
     },
     "output_type": "display_data"
    }
   ],
   "source": [
    "%matplotlib inline\n",
    "\n",
    "imagenum = 8\n",
    "images, labels = next(iter(trainloader))\n",
    "\n",
    "images = mnist_compression(images).detach()\n",
    "images = images.view(images.shape[0], -1)\n",
    "images = (images > t).float()\n",
    "img = images[imagenum].view(1, 64)\n",
    "print(labels[imagenum])\n",
    "\n",
    "# Turn off gradients to speed up this part\n",
    "with torch.no_grad():\n",
    "    activations = classifier2(img)\n",
    "\n",
    "# Output of the network are log-probabilities, need to take exponential for probabilities\n",
    "values, indices = torch.max(activations, 1)\n",
    "print(indices)\n",
    "plt.imshow(img.view(1, 8, 8).numpy().squeeze())"
   ]
  },
  {
   "cell_type": "code",
   "execution_count": 37,
   "metadata": {},
   "outputs": [],
   "source": [
    "np.savetxt('input2hidden', classifier2[0].weight.data.numpy().astype(int), fmt='%-1.2i',delimiter='\\n', newline='\\n')\n",
    "np.savetxt('hidden2output', classifier2[2].weight.data.numpy().astype(int), fmt='%-1.2i',delimiter='\\n', newline='\\n')"
   ]
  },
  {
   "cell_type": "code",
   "execution_count": 38,
   "metadata": {},
   "outputs": [],
   "source": [
    "np.savetxt('input2hidden_bias', classifier2[0].bias.data.numpy().astype(int), fmt='%-1.2i', delimiter='\\n', newline='\\n')\n",
    "np.savetxt('hidden2output_bias', classifier2[2].bias.data.numpy().astype(int), fmt='%-1.2i', delimiter='\\n', newline='\\n')"
   ]
  },
  {
   "cell_type": "code",
   "execution_count": 54,
   "metadata": {},
   "outputs": [],
   "source": [
    "from bitstring import Bits\n",
    "\n",
    "\n",
    "def convert_to_9bit_2s_complement(filename):\n",
    "    input = open(filename, 'r')\n",
    "    output = open(filename + '_b', 'w')\n",
    "    for line in input:\n",
    "        output.write(str(Bits(int=int(line), length=9).bin) + '\\n')\n",
    "\n",
    "            "
   ]
  },
  {
   "cell_type": "code",
   "execution_count": 55,
   "metadata": {},
   "outputs": [
    {
     "name": "stdout",
     "output_type": "stream",
     "text": [
      "finished writing\n",
      "finished writing\n",
      "finished writing\n",
      "finished writing\n"
     ]
    }
   ],
   "source": [
    "convert_to_9bit_2s_complement('hidden2output_bias')\n",
    "convert_to_9bit_2s_complement('input2hidden_bias')\n",
    "convert_to_9bit_2s_complement('input2hidden')\n",
    "convert_to_9bit_2s_complement('hidden2output')"
   ]
  }
 ],
 "metadata": {
  "kernelspec": {
   "display_name": "Python 3",
   "language": "python",
   "name": "python3"
  },
  "language_info": {
   "codemirror_mode": {
    "name": "ipython",
    "version": 3
   },
   "file_extension": ".py",
   "mimetype": "text/x-python",
   "name": "python",
   "nbconvert_exporter": "python",
   "pygments_lexer": "ipython3",
   "version": "3.6.6"
  }
 },
 "nbformat": 4,
 "nbformat_minor": 2
}
