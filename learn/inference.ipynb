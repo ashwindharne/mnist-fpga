{
 "cells": [
  {
   "cell_type": "code",
   "execution_count": 85,
   "metadata": {},
   "outputs": [],
   "source": [
    "import numpy as np\n",
    "import torch\n",
    "import torch.functional as F\n",
    "import matplotlib.pyplot as plt"
   ]
  },
  {
   "cell_type": "code",
   "execution_count": 164,
   "metadata": {},
   "outputs": [],
   "source": [
    "input2hidden = np.loadtxt(\"input2hidden\", delimiter='\\n')\n",
    "input2hidden_bias = np.loadtxt(\"input2hidden_bias\", delimiter = '\\n')\n",
    "hidden2output = np.loadtxt(\"hidden2output\", delimiter = '\\n')\n",
    "hidden2output_bias = np.loadtxt(\"hidden2output_bias\", delimiter = '\\n')\n",
    "\n",
    "input2hidden = input2hidden.reshape(100, 64)\n",
    "hidden2output = hidden2output.reshape(10, 100)"
   ]
  },
  {
   "cell_type": "markdown",
   "metadata": {},
   "source": [
    "# ADD YOUR INPUT HERE THEN RUN THE BLOCK"
   ]
  },
  {
   "cell_type": "code",
   "execution_count": 165,
   "metadata": {},
   "outputs": [
    {
     "data": {
      "text/plain": [
       "<matplotlib.image.AxesImage at 0x116699940>"
      ]
     },
     "execution_count": 165,
     "metadata": {},
     "output_type": "execute_result"
    },
    {
     "data": {
      "image/png": "[encoded data removed]",
      "text/plain": [
       "<Figure size 432x288 with 1 Axes>"
      ]
     },
     "metadata": {
      "needs_background": "light"
     },
     "output_type": "display_data"
    }
   ],
   "source": [
    "input = torch.tensor([ 0, 0, 0, 0, 0, 0, 0, 0, \n",
    "                       0, 0, 0, 1, 1, 0, 0, 0, \n",
    "                       0, 0, 1, 0, 0, 1, 0, 0, \n",
    "                       0, 0, 1, 0, 0, 1, 0, 0,\n",
    "                       0, 0, 1, 0, 0, 1, 0, 0,\n",
    "                       0, 0, 1, 0, 0, 1, 0, 0, \n",
    "                       0, 0, 0, 1, 1, 0, 0, 0,\n",
    "                       0, 0, 0, 0, 0, 0, 0, 0 ])\n",
    "\n",
    "input = input.reshape(-1, 64).numpy()\n",
    "\n",
    "plt.imshow(input.reshape(8, 8))"
   ]
  },
  {
   "cell_type": "markdown",
   "metadata": {},
   "source": [
    "# RUN THE BLOCK TO GET A LABEL AND A CONFIDENCE STRING"
   ]
  },
  {
   "cell_type": "code",
   "execution_count": 166,
   "metadata": {},
   "outputs": [
    {
     "name": "stdout",
     "output_type": "stream",
     "text": [
      "The predicted label is 0 with binary activation 0000010000100110\n"
     ]
    }
   ],
   "source": [
    "x = np.matmul(input, input2hidden.T)\n",
    "x = np.add(x, input2hidden_bias)\n",
    "y = np.clip(x, 0, 100000000)\n",
    "z = np.matmul(y, hidden2output.T)\n",
    "z = np.add(z, hidden2output_bias)\n",
    "\n",
    "index = np.argmax(z)\n",
    "value = int(np.max(z))\n",
    "\n",
    "binary_value = '{0:022b}'.format(value)\n",
    "confidence_string = \"{0:0>4X}\".format(int(binary_value[1:15] , 2))\n",
    "\n",
    "\n",
    "print(f\"The predicted label is {index} with binary activation {binary_value[1:17]}\")\n"
   ]
  }
 ],
 "metadata": {
  "kernelspec": {
   "display_name": "Python 3",
   "language": "python",
   "name": "python3"
  },
  "language_info": {
   "codemirror_mode": {
    "name": "ipython",
    "version": 3
   },
   "file_extension": ".py",
   "mimetype": "text/x-python",
   "name": "python",
   "nbconvert_exporter": "python",
   "pygments_lexer": "ipython3",
   "version": "3.6.1"
  }
 },
 "nbformat": 4,
 "nbformat_minor": 2
}
